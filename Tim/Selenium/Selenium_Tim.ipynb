{
 "cells": [
  {
   "cell_type": "markdown",
   "id": "189c5cf5",
   "metadata": {},
   "source": [
    "# Selenium\n",
    "Automating web applications for testing purposes, but is certainly not limited to just that."
   ]
  },
  {
   "cell_type": "markdown",
   "id": "ef0e38a9",
   "metadata": {},
   "source": [
    "# Locating elements from html"
   ]
  },
  {
   "cell_type": "code",
   "execution_count": null,
   "id": "fee63197",
   "metadata": {},
   "outputs": [],
   "source": [
    "from selenium import webdriver\n",
    "from selenium.webdriver.common.keys import Keys  # Access to keys on keyboard....enter key and stuff...\n",
    "import time\n",
    "from bs4 import BeautifulSoup\n",
    "\n",
    "from selenium.webdriver.common.by import By\n",
    "from selenium.webdriver.support.ui import WebDriverWait\n",
    "from selenium.webdriver.support import expected_conditions as EC\n",
    "\n",
    "\n",
    "\n",
    "PATH = 'C:\\Program Files (x86)\\chromedriver.exe'\n",
    "\n",
    "driver = webdriver.Chrome(PATH)  # The browser and the driver location\n",
    "\n",
    "driver.get('https://techwithtim.net')\n",
    "\n",
    "print(driver.title)\n",
    "\n",
    "search = driver.find_element_by_name('s')   # Searching for search tab\n",
    "\n",
    "search.send_keys('test')   # inserting keys to search tab\n",
    "\n",
    "search.send_keys(Keys.RETURN)  # Enter key\n",
    "\n",
    "# print(driver.page_source)  # Getting page source\n",
    "# doc = BeautifulSoup(driver.page_source, 'html.parser')\n",
    "# print(doc.prettify())\n",
    "\n",
    "\n",
    "try:\n",
    "    main = WebDriverWait(driver, 10).until(\n",
    "        EC.presence_of_element_located((By.ID, \"main\"))\n",
    "    )\n",
    "    \n",
    "    articles = main.find_elements_by_tag_name('article')\n",
    "    \n",
    "    for article in articles:\n",
    "        header = article.find_element_by_class_name('entry-summary')\n",
    "        print(header.text)\n",
    "    \n",
    "except:\n",
    "    driver.quit()\n",
    "\n",
    "\n"
   ]
  },
  {
   "cell_type": "markdown",
   "id": "88e64497",
   "metadata": {},
   "source": [
    "---"
   ]
  },
  {
   "cell_type": "markdown",
   "id": "4cd632ac",
   "metadata": {},
   "source": [
    "# Page Navigating and Clicking Elements"
   ]
  },
  {
   "cell_type": "code",
   "execution_count": 74,
   "id": "970657cf",
   "metadata": {},
   "outputs": [],
   "source": [
    "from selenium import webdriver\n",
    "from selenium.webdriver.common.keys import Keys  # Access to keys on keyboard....enter key and stuff...\n",
    "import time\n",
    "from bs4 import BeautifulSoup\n",
    "\n",
    "from selenium.webdriver.common.by import By\n",
    "from selenium.webdriver.support.ui import WebDriverWait\n",
    "from selenium.webdriver.support import expected_conditions as EC\n",
    "\n",
    "\n",
    "PATH = 'C:\\Program Files (x86)\\chromedriver.exe'\n",
    "\n",
    "driver = webdriver.Chrome(PATH)  # The browser and the driver location\n",
    "\n",
    "driver.maximize_window()\n",
    "\n",
    "driver.get('https://techwithtim.net')\n",
    "\n",
    "link = driver.find_element_by_link_text('Python Programming')\n",
    "\n",
    "link.click()\n",
    "\n",
    "\n",
    "try:\n",
    "#     element = WebDriverWait(driver, 10).until(\n",
    "#         EC.presence_of_element_located((By.LINK_TEXT, \"Beginner Python Tutorials\"))\n",
    "#     )\n",
    "#     element.click()\n",
    "    \n",
    "    \n",
    "    wait = WebDriverWait(driver, 10)\n",
    "    element = wait.until(EC.element_to_be_clickable((By.LINK_TEXT, \"Beginner Python Tutorials\")))\n",
    "    element.click()\n",
    "    \n",
    "#     time.sleep(1)\n",
    "    driver.execute_script(\"window.scrollTo(0, document.body.scrollHeight);\")\n",
    "    \n",
    "#     driver.execute_script(\"window.scrollTo(0, 800);\")\n",
    "    \n",
    "\n",
    "    element = wait.until(EC.element_to_be_clickable((By.ID, 'sow-button-19310003')))\n",
    "    element.click()\n",
    "    \n",
    "    # twas giving an error because the element itself was not visible in the page...\n",
    "    \n",
    "    driver.back()\n",
    "    driver.back()\n",
    "    driver.back()\n",
    "    driver.close()\n",
    "\n",
    "    \n",
    "except:\n",
    "    print('Somethings wrong i can feel it')\n",
    "    driver.quit()"
   ]
  },
  {
   "cell_type": "markdown",
   "id": "657ba398",
   "metadata": {},
   "source": [
    "---"
   ]
  },
  {
   "cell_type": "markdown",
   "id": "ddeaac73",
   "metadata": {},
   "source": [
    "# ActionChains"
   ]
  },
  {
   "cell_type": "code",
   "execution_count": null,
   "id": "985d52fb",
   "metadata": {
    "scrolled": true
   },
   "outputs": [],
   "source": [
    "from selenium import webdriver\n",
    "from selenium.webdriver.common.action_chains import ActionChains\n",
    "\n",
    "PATH = 'C:\\Program Files (x86)\\chromedriver.exe'\n",
    "driver = webdriver.Chrome(PATH)  # The browser and the driver location\n",
    "# driver.maximize_window()\n",
    "driver.get('https://orteil.dashnet.org/cookieclicker/')\n",
    "\n",
    "driver.implicitly_wait(5)\n",
    "\n",
    "\n",
    "cookie = driver.find_element_by_id('bigCookie')\n",
    "cookie_count = driver.find_element_by_id('cookies')\n",
    "items = [driver.find_element_by_id('productPrice' + str(i)) for i in range(1, -1, -1)]\n",
    "\n",
    "actions = ActionChains(driver)\n",
    "\n",
    "actions.click(cookie)\n",
    "\n",
    "for i in range(5000):\n",
    "    actions.perform()\n",
    "    count = int(cookie_count.text.split(' ')[0])\n",
    "    for item in items:\n",
    "        value = int(item.text)\n",
    "        if value <= count:\n",
    "            upgrade_actions = ActionChains(driver)\n",
    "            upgrade_actions.move_to_element(item)\n",
    "            upgrade_actions.click()\n",
    "            upgrade_actions.perform()"
   ]
  },
  {
   "cell_type": "markdown",
   "id": "71753e6b",
   "metadata": {},
   "source": [
    "---"
   ]
  }
 ],
 "metadata": {
  "kernelspec": {
   "display_name": "Python 3 (ipykernel)",
   "language": "python",
   "name": "python3"
  },
  "language_info": {
   "codemirror_mode": {
    "name": "ipython",
    "version": 3
   },
   "file_extension": ".py",
   "mimetype": "text/x-python",
   "name": "python",
   "nbconvert_exporter": "python",
   "pygments_lexer": "ipython3",
   "version": "3.8.8"
  }
 },
 "nbformat": 4,
 "nbformat_minor": 5
}
